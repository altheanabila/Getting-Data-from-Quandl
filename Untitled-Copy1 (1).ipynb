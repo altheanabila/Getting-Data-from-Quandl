{
 "cells": [
  {
   "cell_type": "code",
   "execution_count": 1,
   "metadata": {},
   "outputs": [
    {
     "name": "stdout",
     "output_type": "stream",
     "text": [
      "Collecting Quandl\n",
      "  Downloading Quandl-3.6.1-py2.py3-none-any.whl (26 kB)\n",
      "Requirement already satisfied: six in c:\\users\\hp\\anaconda3\\lib\\site-packages (from Quandl) (1.15.0)\n",
      "Requirement already satisfied: more-itertools in c:\\users\\hp\\anaconda3\\lib\\site-packages (from Quandl) (8.4.0)\n",
      "Requirement already satisfied: python-dateutil in c:\\users\\hp\\anaconda3\\lib\\site-packages (from Quandl) (2.8.1)\n",
      "Requirement already satisfied: numpy>=1.8 in c:\\users\\hp\\anaconda3\\lib\\site-packages (from Quandl) (1.19.5)\n",
      "Requirement already satisfied: pandas>=0.14 in c:\\users\\hp\\anaconda3\\lib\\site-packages (from Quandl) (1.0.5)\n",
      "Collecting inflection>=0.3.1\n",
      "  Downloading inflection-0.5.1-py2.py3-none-any.whl (9.5 kB)\n",
      "Requirement already satisfied: requests>=2.7.0 in c:\\users\\hp\\anaconda3\\lib\\site-packages (from Quandl) (2.24.0)\n",
      "Requirement already satisfied: pytz>=2017.2 in c:\\users\\hp\\anaconda3\\lib\\site-packages (from pandas>=0.14->Quandl) (2020.1)\n",
      "Requirement already satisfied: idna<3,>=2.5 in c:\\users\\hp\\anaconda3\\lib\\site-packages (from requests>=2.7.0->Quandl) (2.10)\n",
      "Requirement already satisfied: urllib3!=1.25.0,!=1.25.1,<1.26,>=1.21.1 in c:\\users\\hp\\anaconda3\\lib\\site-packages (from requests>=2.7.0->Quandl) (1.25.9)\n",
      "Requirement already satisfied: chardet<4,>=3.0.2 in c:\\users\\hp\\anaconda3\\lib\\site-packages (from requests>=2.7.0->Quandl) (3.0.4)\n",
      "Requirement already satisfied: certifi>=2017.4.17 in c:\\users\\hp\\anaconda3\\lib\\site-packages (from requests>=2.7.0->Quandl) (2021.5.30)\n",
      "Installing collected packages: inflection, Quandl\n",
      "Successfully installed Quandl-3.6.1 inflection-0.5.1\n",
      "Note: you may need to restart the kernel to use updated packages.\n"
     ]
    }
   ],
   "source": [
    "pip install Quandl"
   ]
  },
  {
   "cell_type": "code",
   "execution_count": 3,
   "metadata": {},
   "outputs": [],
   "source": [
    "import pandas as pd\n",
    "import quandl"
   ]
  },
  {
   "cell_type": "code",
   "execution_count": 4,
   "metadata": {},
   "outputs": [],
   "source": [
    "#Authenticate using the personal API key;\n",
    "\n",
    "QUANDL_KEY = 'VMuJREsX2yY4_McfSNj9'\n",
    "quandl.ApiConfig.api_key = QUANDL_KEY"
   ]
  },
  {
   "cell_type": "code",
   "execution_count": 6,
   "metadata": {},
   "outputs": [],
   "source": [
    "#download the data\n",
    "df_quandl = quandl.get(dataset='WIKI/NVDA', start_date='2000-01-01', end_date='2015-12-31')"
   ]
  },
  {
   "cell_type": "code",
   "execution_count": 7,
   "metadata": {},
   "outputs": [
    {
     "name": "stdout",
     "output_type": "stream",
     "text": [
      "Downloaded4025 rows of data\n"
     ]
    },
    {
     "data": {
      "text/html": [
       "<div>\n",
       "<style scoped>\n",
       "    .dataframe tbody tr th:only-of-type {\n",
       "        vertical-align: middle;\n",
       "    }\n",
       "\n",
       "    .dataframe tbody tr th {\n",
       "        vertical-align: top;\n",
       "    }\n",
       "\n",
       "    .dataframe thead th {\n",
       "        text-align: right;\n",
       "    }\n",
       "</style>\n",
       "<table border=\"1\" class=\"dataframe\">\n",
       "  <thead>\n",
       "    <tr style=\"text-align: right;\">\n",
       "      <th></th>\n",
       "      <th>Open</th>\n",
       "      <th>High</th>\n",
       "      <th>Low</th>\n",
       "      <th>Close</th>\n",
       "      <th>Volume</th>\n",
       "      <th>Ex-Dividend</th>\n",
       "      <th>Split Ratio</th>\n",
       "      <th>Adj. Open</th>\n",
       "      <th>Adj. High</th>\n",
       "      <th>Adj. Low</th>\n",
       "      <th>Adj. Close</th>\n",
       "      <th>Adj. Volume</th>\n",
       "    </tr>\n",
       "    <tr>\n",
       "      <th>Date</th>\n",
       "      <th></th>\n",
       "      <th></th>\n",
       "      <th></th>\n",
       "      <th></th>\n",
       "      <th></th>\n",
       "      <th></th>\n",
       "      <th></th>\n",
       "      <th></th>\n",
       "      <th></th>\n",
       "      <th></th>\n",
       "      <th></th>\n",
       "      <th></th>\n",
       "    </tr>\n",
       "  </thead>\n",
       "  <tbody>\n",
       "    <tr>\n",
       "      <th>2000-01-03</th>\n",
       "      <td>47.25</td>\n",
       "      <td>47.63</td>\n",
       "      <td>45.25</td>\n",
       "      <td>46.81</td>\n",
       "      <td>626900.0</td>\n",
       "      <td>0.0</td>\n",
       "      <td>1.0</td>\n",
       "      <td>3.653605</td>\n",
       "      <td>3.682988</td>\n",
       "      <td>3.498955</td>\n",
       "      <td>3.619582</td>\n",
       "      <td>7522800.0</td>\n",
       "    </tr>\n",
       "    <tr>\n",
       "      <th>2000-01-04</th>\n",
       "      <td>46.00</td>\n",
       "      <td>46.13</td>\n",
       "      <td>43.25</td>\n",
       "      <td>45.56</td>\n",
       "      <td>626000.0</td>\n",
       "      <td>0.0</td>\n",
       "      <td>1.0</td>\n",
       "      <td>3.556949</td>\n",
       "      <td>3.567001</td>\n",
       "      <td>3.344305</td>\n",
       "      <td>3.522926</td>\n",
       "      <td>7512000.0</td>\n",
       "    </tr>\n",
       "    <tr>\n",
       "      <th>2000-01-05</th>\n",
       "      <td>44.25</td>\n",
       "      <td>45.00</td>\n",
       "      <td>43.75</td>\n",
       "      <td>44.19</td>\n",
       "      <td>392400.0</td>\n",
       "      <td>0.0</td>\n",
       "      <td>1.0</td>\n",
       "      <td>3.421630</td>\n",
       "      <td>3.479624</td>\n",
       "      <td>3.382968</td>\n",
       "      <td>3.416991</td>\n",
       "      <td>4708800.0</td>\n",
       "    </tr>\n",
       "    <tr>\n",
       "      <th>2000-01-06</th>\n",
       "      <td>44.06</td>\n",
       "      <td>44.06</td>\n",
       "      <td>39.50</td>\n",
       "      <td>41.19</td>\n",
       "      <td>251000.0</td>\n",
       "      <td>0.0</td>\n",
       "      <td>1.0</td>\n",
       "      <td>3.406938</td>\n",
       "      <td>3.406938</td>\n",
       "      <td>3.054336</td>\n",
       "      <td>3.185016</td>\n",
       "      <td>3012000.0</td>\n",
       "    </tr>\n",
       "    <tr>\n",
       "      <th>2000-01-07</th>\n",
       "      <td>41.00</td>\n",
       "      <td>42.31</td>\n",
       "      <td>40.38</td>\n",
       "      <td>41.88</td>\n",
       "      <td>148300.0</td>\n",
       "      <td>0.0</td>\n",
       "      <td>1.0</td>\n",
       "      <td>3.170324</td>\n",
       "      <td>3.271620</td>\n",
       "      <td>3.122382</td>\n",
       "      <td>3.238370</td>\n",
       "      <td>1779600.0</td>\n",
       "    </tr>\n",
       "  </tbody>\n",
       "</table>\n",
       "</div>"
      ],
      "text/plain": [
       "             Open   High    Low  Close    Volume  Ex-Dividend  Split Ratio  \\\n",
       "Date                                                                         \n",
       "2000-01-03  47.25  47.63  45.25  46.81  626900.0          0.0          1.0   \n",
       "2000-01-04  46.00  46.13  43.25  45.56  626000.0          0.0          1.0   \n",
       "2000-01-05  44.25  45.00  43.75  44.19  392400.0          0.0          1.0   \n",
       "2000-01-06  44.06  44.06  39.50  41.19  251000.0          0.0          1.0   \n",
       "2000-01-07  41.00  42.31  40.38  41.88  148300.0          0.0          1.0   \n",
       "\n",
       "            Adj. Open  Adj. High  Adj. Low  Adj. Close  Adj. Volume  \n",
       "Date                                                                 \n",
       "2000-01-03   3.653605   3.682988  3.498955    3.619582    7522800.0  \n",
       "2000-01-04   3.556949   3.567001  3.344305    3.522926    7512000.0  \n",
       "2000-01-05   3.421630   3.479624  3.382968    3.416991    4708800.0  \n",
       "2000-01-06   3.406938   3.406938  3.054336    3.185016    3012000.0  \n",
       "2000-01-07   3.170324   3.271620  3.122382    3.238370    1779600.0  "
      ]
     },
     "execution_count": 7,
     "metadata": {},
     "output_type": "execute_result"
    }
   ],
   "source": [
    "#inspect the data\n",
    "print(f'Downloaded{df_quandl.shape[0]} rows of data')\n",
    "df_quandl.head()\n"
   ]
  },
  {
   "cell_type": "code",
   "execution_count": null,
   "metadata": {},
   "outputs": [],
   "source": []
  }
 ],
 "metadata": {
  "kernelspec": {
   "display_name": "Python 3",
   "language": "python",
   "name": "python3"
  },
  "language_info": {
   "codemirror_mode": {
    "name": "ipython",
    "version": 3
   },
   "file_extension": ".py",
   "mimetype": "text/x-python",
   "name": "python",
   "nbconvert_exporter": "python",
   "pygments_lexer": "ipython3",
   "version": "3.8.3"
  }
 },
 "nbformat": 4,
 "nbformat_minor": 4
}
